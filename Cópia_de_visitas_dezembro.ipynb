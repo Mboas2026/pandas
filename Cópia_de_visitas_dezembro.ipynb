{
  "nbformat": 4,
  "nbformat_minor": 0,
  "metadata": {
    "colab": {
      "provenance": [],
      "authorship_tag": "ABX9TyPtQeaGJigazmJAYsn1Timr",
      "include_colab_link": true
    },
    "kernelspec": {
      "name": "python3",
      "display_name": "Python 3"
    },
    "language_info": {
      "name": "python"
    }
  },
  "cells": [
    {
      "cell_type": "markdown",
      "metadata": {
        "id": "view-in-github",
        "colab_type": "text"
      },
      "source": [
        "<a href=\"https://colab.research.google.com/github/Mboas2026/M-dison-Henrique-B-as/blob/main/C%C3%B3pia_de_visitas_dezembro.ipynb\" target=\"_parent\"><img src=\"https://colab.research.google.com/assets/colab-badge.svg\" alt=\"Open In Colab\"/></a>"
      ]
    },
    {
      "cell_type": "markdown",
      "source": [
        "**LISTA DE VISITAS ÁREA URBANA SEREM REALIZADAS 12/2024:**\n",
        "\n",
        "1.   Joaquim Neres dos Santos - Rua Delegado João Rodrigues, 248, Centro.\n",
        "2.   Geraldo Augusto de Macedo - Rua Major Quirino, 256, Centro.\n",
        "3.   Denise Alves de Oliveira - Rua do Parque, 541, Morada do Parque.\n",
        "4.   Miriam Souza Silva - Rua Cristino Feliciano, , Centro.\n",
        "5.   Shirlei Gomes Ferreira - (buscar endereço).\n",
        "6.   Maria Vitória Santana de Macedo/Ailton Firmino de Macedo(pai) - Rancharia.\n",
        "\n",
        "\n",
        "\n",
        "\n"
      ],
      "metadata": {
        "id": "E09yRLIa0UPH"
      }
    },
    {
      "cell_type": "markdown",
      "source": [
        "**LISTA DE VISITAS ÁREA RURAL SEREM REALIZADAS 12/2024:**\n",
        "\n",
        "\n",
        "\n",
        "1.   Maria José Dias - Comunidade de Traíras.\n",
        "2.   Lucimara Mendes Costa - Comunidade  Aldeia Morro Falhado(Contrarref).\n",
        "3.   Maria Gomes de Oliveira - Comunidade Aldeia Brejo.\n",
        "4.   Renata Gonçalves Da Silva/Luciano Alkimim Lima da Silva - C Aldeia Sumaré.\n",
        "5.   José Antônio de Oliveira/Maria Madalena de Oliveira(038)998050714 Sabonete.\n",
        "\n"
      ],
      "metadata": {
        "id": "uYv02JMv2w4x"
      }
    },
    {
      "cell_type": "markdown",
      "source": [
        "**OUTRAS VISITAS:**\n",
        "\n",
        "1.   Dalton Dias Magalhães- R:Profª Azelia Valeria de Lima,132, Tancredo - Itac.\n",
        "2.   Ministério Público - Manga.\n",
        "3.   Fórum Januária/Fórum Manga.\n",
        "4.   Asilo Januária.\n",
        "\n"
      ],
      "metadata": {
        "id": "zWZnpbg05g0a"
      }
    }
  ]
}